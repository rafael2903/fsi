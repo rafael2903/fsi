{
 "cells": [
  {
   "cell_type": "code",
   "execution_count": 1,
   "metadata": {},
   "outputs": [
    {
     "name": "stdout",
     "output_type": "stream",
     "text": [
      "Found 64 files belonging to 1 classes.\n",
      "Found 64 files belonging to 1 classes.\n",
      "Found 64 files belonging to 1 classes.\n",
      "Found 64 files belonging to 1 classes.\n",
      "Found 64 files belonging to 1 classes.\n",
      "Found 64 files belonging to 1 classes.\n",
      "Found 64 files belonging to 1 classes.\n"
     ]
    }
   ],
   "source": [
    "from tensorflow import keras\n",
    "import tensorflow as tf\n",
    "import numpy as np\n",
    "\n",
    "\n",
    "def augment(image, label):\n",
    "    image = tf.image.rot90(image, k=1) if tf.random.uniform(()) > 0.5 else image\n",
    "    image = tf.image.random_flip_left_right(image)\n",
    "    image = tf.image.random_flip_up_down(image)\n",
    "    image = tf.image.random_brightness(image, max_delta=1.0) if tf.random.uniform(()) > 0.5 else image\n",
    "    image = tf.image.random_saturation(image, lower=0.75, upper=1.25)\n",
    "    image = tf.image.random_crop(image, size=[1, 448, 448, 3])\n",
    "    return image, label\n",
    "\n",
    "\n",
    "def save_image(image, dest_path, name):\n",
    "    image = image.numpy().astype(\"uint8\")\n",
    "    image = np.squeeze(image, axis=0)\n",
    "    image = tf.image.encode_jpeg(image, quality=100, optimize_size=False, chroma_downsampling=False)\n",
    "    tf.io.write_file(dest_path + \"/\" + name, image)\n",
    "\n",
    "\n",
    "for i in range(7):\n",
    "    ds = keras.preprocessing.image_dataset_from_directory(\n",
    "            \"images\",\n",
    "            labels=\"inferred\",\n",
    "            label_mode=\"categorical\",\n",
    "            class_names=None,\n",
    "            image_size=(512, 512),\n",
    "            shuffle=False,\n",
    "            batch_size=1,\n",
    "        )\n",
    "\n",
    "    class_names = ds.class_names\n",
    "\n",
    "    ds = ds.map(augment)\n",
    "\n",
    "    for j, (image, label) in enumerate(ds):\n",
    "        file_index  = (i * 64) + j\n",
    "        class_name = class_names[label.numpy().argmax()]\n",
    "        dest_path = f\"new_images/{class_name}\"\n",
    "        filename = f\"{class_name}_{file_index}.jpg\"\n",
    "        save_image(image, dest_path, filename)"
   ]
  }
 ],
 "metadata": {
  "kernelspec": {
   "display_name": "Python 3",
   "language": "python",
   "name": "python3"
  },
  "language_info": {
   "codemirror_mode": {
    "name": "ipython",
    "version": 3
   },
   "file_extension": ".py",
   "mimetype": "text/x-python",
   "name": "python",
   "nbconvert_exporter": "python",
   "pygments_lexer": "ipython3",
   "version": "3.10.10"
  },
  "orig_nbformat": 4,
  "vscode": {
   "interpreter": {
    "hash": "47e86e659cc4c7e7c8281f4dfa198d26eba569ed7d4f5779d5419dff2bd0d92c"
   }
  }
 },
 "nbformat": 4,
 "nbformat_minor": 2
}
