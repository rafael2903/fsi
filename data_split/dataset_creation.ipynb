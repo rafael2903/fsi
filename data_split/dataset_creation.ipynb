{
 "cells": [
  {
   "cell_type": "code",
   "execution_count": 2,
   "metadata": {},
   "outputs": [],
   "source": [
    "import os\n",
    "import shutil\n",
    "import random\n",
    "\n",
    "# Diretório com as pastas de classes\n",
    "images_dir = 'images'\n",
    "dataset_dir = 'dataset'\n",
    "\n",
    "os.makedirs(dataset_dir, exist_ok=True)\n",
    "\n",
    "classes = [class_ for class_ in os.listdir(images_dir)]\n",
    "\n",
    "# Número de imagens para cada classe\n",
    "n_samples = 448\n",
    "\n",
    "# Porcentagem de imagens para cada conjunto\n",
    "train_percentage = 0.6\n",
    "val_percentage = 0.2\n",
    "\n",
    "# Cria os diretórios para os conjuntos de dados\n",
    "train_dir = os.path.join(dataset_dir, 'train')\n",
    "os.makedirs(train_dir, exist_ok=True)\n",
    "\n",
    "val_dir = os.path.join(dataset_dir, 'val')\n",
    "os.makedirs(val_dir, exist_ok=True)\n",
    "\n",
    "test_dir = os.path.join(dataset_dir, 'test')\n",
    "os.makedirs(test_dir, exist_ok=True)\n",
    "\n",
    "# Calcula o número de imagens para cada conjunto\n",
    "train_count = int(train_percentage * n_samples)\n",
    "val_count = int(val_percentage * n_samples)\n",
    "\n",
    "for class_ in classes:\n",
    "  class_dir = os.path.join(images_dir, class_)\n",
    "\n",
    "  os.makedirs(os.path.join(train_dir, class_), exist_ok=True)\n",
    "  os.makedirs(os.path.join(val_dir, class_), exist_ok=True)\n",
    "  os.makedirs(os.path.join(test_dir, class_), exist_ok=True)\n",
    "\n",
    "  # Obtém a lista de todas as imagens no diretório da classe\n",
    "  image_files = [f for f in os.listdir(class_dir) if f.endswith('.jpg') or f.endswith('.JPG')]\n",
    "\n",
    "  # Embaralha a lista de imagens\n",
    "  random.shuffle(image_files)\n",
    "\n",
    "  # Seleciona as n_samples primeiras imagens do conjunto embaralhado\n",
    "  image_files = image_files[:n_samples]\n",
    "\n",
    "  # Copia as imagens para os diretórios correspondentes\n",
    "  for image_file in image_files[:train_count]:\n",
    "      shutil.copy2(os.path.join(class_dir, image_file), os.path.join(train_dir, class_, image_file))\n",
    "\n",
    "  for image_file in image_files[train_count:train_count + val_count]:\n",
    "      shutil.copy2(os.path.join(class_dir, image_file), os.path.join(val_dir, class_, image_file))\n",
    "\n",
    "  for image_file in image_files[train_count + val_count:]:\n",
    "      shutil.copy2(os.path.join(class_dir, image_file), os.path.join(test_dir, class_, image_file))\n"
   ]
  },
  {
   "cell_type": "code",
   "execution_count": 3,
   "metadata": {},
   "outputs": [
    {
     "data": {
      "text/plain": [
       "'d:\\\\Users\\\\rafae\\\\Área de Trabalho\\\\UnB\\\\Matérias\\\\7º Semestre\\\\FSI - Fundamentos de Sistemas Inteligentes\\\\Projetos\\\\Projeto 2\\\\code\\\\data_split\\\\dataset.zip'"
      ]
     },
     "execution_count": 3,
     "metadata": {},
     "output_type": "execute_result"
    }
   ],
   "source": [
    "# zip dataset\n",
    "\n",
    "shutil.make_archive('dataset', 'zip', 'dataset')"
   ]
  }
 ],
 "metadata": {
  "kernelspec": {
   "display_name": "Python 3",
   "language": "python",
   "name": "python3"
  },
  "language_info": {
   "codemirror_mode": {
    "name": "ipython",
    "version": 3
   },
   "file_extension": ".py",
   "mimetype": "text/x-python",
   "name": "python",
   "nbconvert_exporter": "python",
   "pygments_lexer": "ipython3",
   "version": "3.10.10"
  },
  "orig_nbformat": 4,
  "vscode": {
   "interpreter": {
    "hash": "47e86e659cc4c7e7c8281f4dfa198d26eba569ed7d4f5779d5419dff2bd0d92c"
   }
  }
 },
 "nbformat": 4,
 "nbformat_minor": 2
}
